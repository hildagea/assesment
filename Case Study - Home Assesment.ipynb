{
 "cells": [
  {
   "cell_type": "code",
   "execution_count": 1,
   "metadata": {},
   "outputs": [],
   "source": [
    "#before that run this command if pymysql didnt exist in your computer \n",
    "#pip install pymysql\n",
    "import requests\n",
    "import pandas as pd\n",
    "import numpy as np\n",
    "import pymysql"
   ]
  },
  {
   "cell_type": "code",
   "execution_count": 2,
   "metadata": {},
   "outputs": [],
   "source": [
    "#request api\n",
    "r = requests.get('https://storage.googleapis.com/zalora-interview-data/bitstampUSD_1-min_data_2012-01-01_to_2020-09-14.csv')"
   ]
  },
  {
   "cell_type": "code",
   "execution_count": 3,
   "metadata": {},
   "outputs": [
    {
     "data": {
      "text/plain": [
       "294068701"
      ]
     },
     "execution_count": 3,
     "metadata": {},
     "output_type": "execute_result"
    }
   ],
   "source": [
    "# made CSV file and write it\n",
    "open('bitcoin.csv', 'wb').write(r.content)"
   ]
  },
  {
   "cell_type": "code",
   "execution_count": 4,
   "metadata": {},
   "outputs": [],
   "source": [
    "df = pd.read_csv('F:/python/bitcoin.csv')"
   ]
  },
  {
   "cell_type": "code",
   "execution_count": 5,
   "metadata": {},
   "outputs": [],
   "source": [
    "headers = [\"timestamp\",\"open\",\"high\",\"low\",\"close\",\"vol_btc\",\"vol_currency\",\"weight_price\"]\n",
    "df.columns = headers"
   ]
  },
  {
   "cell_type": "code",
   "execution_count": 6,
   "metadata": {},
   "outputs": [
    {
     "data": {
      "text/plain": [
       "timestamp             0\n",
       "open            1241716\n",
       "high            1241716\n",
       "low             1241716\n",
       "close           1241716\n",
       "vol_btc         1241716\n",
       "vol_currency    1241716\n",
       "weight_price    1241716\n",
       "dtype: int64"
      ]
     },
     "execution_count": 6,
     "metadata": {},
     "output_type": "execute_result"
    }
   ],
   "source": [
    "#before we remove the value of nan, we have to check the number of empty columns\n",
    "#df.isnull().sum()"
   ]
  },
  {
   "cell_type": "code",
   "execution_count": 7,
   "metadata": {},
   "outputs": [],
   "source": [
    "nan_value = float(\"Nan\")\n",
    "df.replace(\"\", nan_value, inplace=True)"
   ]
  },
  {
   "cell_type": "code",
   "execution_count": 8,
   "metadata": {},
   "outputs": [
    {
     "data": {
      "text/html": [
       "<div>\n",
       "<style scoped>\n",
       "    .dataframe tbody tr th:only-of-type {\n",
       "        vertical-align: middle;\n",
       "    }\n",
       "\n",
       "    .dataframe tbody tr th {\n",
       "        vertical-align: top;\n",
       "    }\n",
       "\n",
       "    .dataframe thead th {\n",
       "        text-align: right;\n",
       "    }\n",
       "</style>\n",
       "<table border=\"1\" class=\"dataframe\">\n",
       "  <thead>\n",
       "    <tr style=\"text-align: right;\">\n",
       "      <th></th>\n",
       "      <th>timestamp</th>\n",
       "      <th>open</th>\n",
       "      <th>high</th>\n",
       "      <th>low</th>\n",
       "      <th>close</th>\n",
       "      <th>vol_btc</th>\n",
       "      <th>vol_currency</th>\n",
       "      <th>weight_price</th>\n",
       "    </tr>\n",
       "  </thead>\n",
       "  <tbody>\n",
       "    <tr>\n",
       "      <td>0</td>\n",
       "      <td>1325317920</td>\n",
       "      <td>4.39</td>\n",
       "      <td>4.39</td>\n",
       "      <td>4.39</td>\n",
       "      <td>4.39</td>\n",
       "      <td>0.455581</td>\n",
       "      <td>2.000000</td>\n",
       "      <td>4.390000</td>\n",
       "    </tr>\n",
       "    <tr>\n",
       "      <td>478</td>\n",
       "      <td>1325346600</td>\n",
       "      <td>4.39</td>\n",
       "      <td>4.39</td>\n",
       "      <td>4.39</td>\n",
       "      <td>4.39</td>\n",
       "      <td>48.000000</td>\n",
       "      <td>210.720000</td>\n",
       "      <td>4.390000</td>\n",
       "    </tr>\n",
       "    <tr>\n",
       "      <td>547</td>\n",
       "      <td>1325350740</td>\n",
       "      <td>4.50</td>\n",
       "      <td>4.57</td>\n",
       "      <td>4.50</td>\n",
       "      <td>4.57</td>\n",
       "      <td>37.862297</td>\n",
       "      <td>171.380338</td>\n",
       "      <td>4.526411</td>\n",
       "    </tr>\n",
       "    <tr>\n",
       "      <td>548</td>\n",
       "      <td>1325350800</td>\n",
       "      <td>4.58</td>\n",
       "      <td>4.58</td>\n",
       "      <td>4.58</td>\n",
       "      <td>4.58</td>\n",
       "      <td>9.000000</td>\n",
       "      <td>41.220000</td>\n",
       "      <td>4.580000</td>\n",
       "    </tr>\n",
       "    <tr>\n",
       "      <td>1224</td>\n",
       "      <td>1325391360</td>\n",
       "      <td>4.58</td>\n",
       "      <td>4.58</td>\n",
       "      <td>4.58</td>\n",
       "      <td>4.58</td>\n",
       "      <td>1.502000</td>\n",
       "      <td>6.879160</td>\n",
       "      <td>4.580000</td>\n",
       "    </tr>\n",
       "  </tbody>\n",
       "</table>\n",
       "</div>"
      ],
      "text/plain": [
       "       timestamp  open  high   low  close    vol_btc  vol_currency  \\\n",
       "0     1325317920  4.39  4.39  4.39   4.39   0.455581      2.000000   \n",
       "478   1325346600  4.39  4.39  4.39   4.39  48.000000    210.720000   \n",
       "547   1325350740  4.50  4.57  4.50   4.57  37.862297    171.380338   \n",
       "548   1325350800  4.58  4.58  4.58   4.58   9.000000     41.220000   \n",
       "1224  1325391360  4.58  4.58  4.58   4.58   1.502000      6.879160   \n",
       "\n",
       "      weight_price  \n",
       "0         4.390000  \n",
       "478       4.390000  \n",
       "547       4.526411  \n",
       "548       4.580000  \n",
       "1224      4.580000  "
      ]
     },
     "execution_count": 8,
     "metadata": {},
     "output_type": "execute_result"
    }
   ],
   "source": [
    "#because every column have same value, so we just use open column\n",
    "df.dropna(subset = [\"open\"], inplace=True)\n",
    "df.head()"
   ]
  },
  {
   "cell_type": "code",
   "execution_count": 9,
   "metadata": {},
   "outputs": [],
   "source": [
    "#replace timestamp with datetime\n",
    "df['timestamp']= pd.to_datetime(df['timestamp'],unit='s')\n",
    "df.replace(\"\",df['timestamp'], inplace=True)"
   ]
  },
  {
   "cell_type": "code",
   "execution_count": 10,
   "metadata": {},
   "outputs": [
    {
     "data": {
      "text/html": [
       "<div>\n",
       "<style scoped>\n",
       "    .dataframe tbody tr th:only-of-type {\n",
       "        vertical-align: middle;\n",
       "    }\n",
       "\n",
       "    .dataframe tbody tr th {\n",
       "        vertical-align: top;\n",
       "    }\n",
       "\n",
       "    .dataframe thead th {\n",
       "        text-align: right;\n",
       "    }\n",
       "</style>\n",
       "<table border=\"1\" class=\"dataframe\">\n",
       "  <thead>\n",
       "    <tr style=\"text-align: right;\">\n",
       "      <th></th>\n",
       "      <th>timestamp</th>\n",
       "      <th>open</th>\n",
       "      <th>high</th>\n",
       "      <th>low</th>\n",
       "      <th>close</th>\n",
       "      <th>vol_btc</th>\n",
       "      <th>vol_currency</th>\n",
       "      <th>weight_price</th>\n",
       "    </tr>\n",
       "  </thead>\n",
       "  <tbody>\n",
       "    <tr>\n",
       "      <td>0</td>\n",
       "      <td>2011-12-31 07:52:00</td>\n",
       "      <td>4.39</td>\n",
       "      <td>4.39</td>\n",
       "      <td>4.39</td>\n",
       "      <td>4.39</td>\n",
       "      <td>0.455581</td>\n",
       "      <td>2.000000</td>\n",
       "      <td>4.390000</td>\n",
       "    </tr>\n",
       "    <tr>\n",
       "      <td>478</td>\n",
       "      <td>2011-12-31 15:50:00</td>\n",
       "      <td>4.39</td>\n",
       "      <td>4.39</td>\n",
       "      <td>4.39</td>\n",
       "      <td>4.39</td>\n",
       "      <td>48.000000</td>\n",
       "      <td>210.720000</td>\n",
       "      <td>4.390000</td>\n",
       "    </tr>\n",
       "    <tr>\n",
       "      <td>547</td>\n",
       "      <td>2011-12-31 16:59:00</td>\n",
       "      <td>4.50</td>\n",
       "      <td>4.57</td>\n",
       "      <td>4.50</td>\n",
       "      <td>4.57</td>\n",
       "      <td>37.862297</td>\n",
       "      <td>171.380338</td>\n",
       "      <td>4.526411</td>\n",
       "    </tr>\n",
       "    <tr>\n",
       "      <td>548</td>\n",
       "      <td>2011-12-31 17:00:00</td>\n",
       "      <td>4.58</td>\n",
       "      <td>4.58</td>\n",
       "      <td>4.58</td>\n",
       "      <td>4.58</td>\n",
       "      <td>9.000000</td>\n",
       "      <td>41.220000</td>\n",
       "      <td>4.580000</td>\n",
       "    </tr>\n",
       "    <tr>\n",
       "      <td>1224</td>\n",
       "      <td>2012-01-01 04:16:00</td>\n",
       "      <td>4.58</td>\n",
       "      <td>4.58</td>\n",
       "      <td>4.58</td>\n",
       "      <td>4.58</td>\n",
       "      <td>1.502000</td>\n",
       "      <td>6.879160</td>\n",
       "      <td>4.580000</td>\n",
       "    </tr>\n",
       "  </tbody>\n",
       "</table>\n",
       "</div>"
      ],
      "text/plain": [
       "               timestamp  open  high   low  close    vol_btc  vol_currency  \\\n",
       "0    2011-12-31 07:52:00  4.39  4.39  4.39   4.39   0.455581      2.000000   \n",
       "478  2011-12-31 15:50:00  4.39  4.39  4.39   4.39  48.000000    210.720000   \n",
       "547  2011-12-31 16:59:00  4.50  4.57  4.50   4.57  37.862297    171.380338   \n",
       "548  2011-12-31 17:00:00  4.58  4.58  4.58   4.58   9.000000     41.220000   \n",
       "1224 2012-01-01 04:16:00  4.58  4.58  4.58   4.58   1.502000      6.879160   \n",
       "\n",
       "      weight_price  \n",
       "0         4.390000  \n",
       "478       4.390000  \n",
       "547       4.526411  \n",
       "548       4.580000  \n",
       "1224      4.580000  "
      ]
     },
     "execution_count": 10,
     "metadata": {},
     "output_type": "execute_result"
    }
   ],
   "source": [
    "data = pd.DataFrame(df, columns= ['timestamp','open','high','low','close','vol_btc','vol_currency','weight_price'])\n",
    "#data.head()"
   ]
  },
  {
   "cell_type": "code",
   "execution_count": 11,
   "metadata": {},
   "outputs": [],
   "source": [
    "#before we connect the database, we must already make a new table after cleaning processing\n",
    "#connect to database using localhost\n",
    "database = pymysql.connect(host=\"localhost\",user=\"root\",passwd=\"\", db=\"bitcoin\")\n",
    "cursor = database.cursor()"
   ]
  },
  {
   "cell_type": "code",
   "execution_count": 12,
   "metadata": {},
   "outputs": [],
   "source": [
    "#insert data to the table, we must check for each column had the same name between in data frame and table\n",
    "for row in df.itertuples():\n",
    "    cursor.execute(\"INSERT INTO coin (timestamp,open,high,low,close,vol_btc,vol_currency,weight_price) \"\n",
    "  \"VALUES (%s,%s,%s,%s,%s,%s,%s,%s)\",\n",
    "                (row.timestamp,\n",
    "                 row.open,\n",
    "                 row.high,\n",
    "                 row.low,\n",
    "                 row.close,\n",
    "                 row.vol_btc,\n",
    "                 row.vol_currency,\n",
    "                 row.weight_price)    \n",
    "                )\n",
    "database.commit()"
   ]
  },
  {
   "cell_type": "code",
   "execution_count": 13,
   "metadata": {},
   "outputs": [
    {
     "data": {
      "text/plain": [
       "1589"
      ]
     },
     "execution_count": 13,
     "metadata": {},
     "output_type": "execute_result"
    }
   ],
   "source": [
    "#after that, we run this query to get the result\n",
    "cursor.execute(\"\"\"SELECT \n",
    "CASE WHEN a.rnk = b.rnk then a.tanggal end as buying_date,\n",
    "CASE WHEN a.rnk = b.rnk then a.vol_currency end as buying_price,\n",
    "CASE WHEN a.rnk = b.rnk then b.tanggal end as selling_date,\n",
    "CASE WHEN a.rnk = b.rnk then b.vol_currency end as selling_price,\n",
    "round(((b.vol_currency - a.vol_currency)/b.vol_currency)*100,2) roi\n",
    "FROM\n",
    "(SELECT tanggal, open, high, low, close, vol_btc, vol_currency, weight_price, RANK()OVER (ORDER BY tanggal) AS rnk FROM\n",
    "(SELECT date(timestamp) tanggal, open, high, low, close,vol_btc, vol_currency, weight_price,\n",
    "RANK()OVER (ORDER BY date(timestamp)) AS rnk\n",
    "FROM \n",
    "(SELECT *,\n",
    "ROW_NUMBER()OVER (PARTITION BY date(timestamp) ORDER BY date(timestamp) desc) AS rnk  \n",
    "from coin) a\n",
    "where rnk =1 order by tanggal) a where rnk %2 <> 0) a\n",
    "JOIN\n",
    "(SELECT tanggal, open, high, low, close, vol_btc, vol_currency, weight_price, RANK()OVER (ORDER BY tanggal) AS rnk FROM\n",
    "(SELECT date(timestamp) tanggal, open, high, low, close,vol_btc, vol_currency, weight_price,\n",
    "RANK()OVER (ORDER BY date(timestamp)) AS rnk\n",
    "FROM \n",
    "(SELECT *,\n",
    "ROW_NUMBER()OVER (PARTITION BY date(timestamp) ORDER BY date(timestamp) desc) AS rnk  \n",
    "from coin) a\n",
    "where rnk =1 order by tanggal) a where rnk %2 = 0) b\n",
    "ON a.rnk = b.rnk \"\"\")"
   ]
  },
  {
   "cell_type": "code",
   "execution_count": 24,
   "metadata": {},
   "outputs": [],
   "source": [
    "#the result\n",
    "myresult = cursor.fetchall()"
   ]
  },
  {
   "cell_type": "code",
   "execution_count": 40,
   "metadata": {},
   "outputs": [],
   "source": [
    "df = pd.DataFrame(myresult, columns = ['buying_date','buying_price','selling_date','selling_price','roi'])\n",
    "direktori = 'F:\\python\\data_assesment.csv'\n",
    "df.to_csv (direktori, index = False, header=True)"
   ]
  }
 ],
 "metadata": {
  "kernelspec": {
   "display_name": "Python 3",
   "language": "python",
   "name": "python3"
  },
  "language_info": {
   "codemirror_mode": {
    "name": "ipython",
    "version": 3
   },
   "file_extension": ".py",
   "mimetype": "text/x-python",
   "name": "python",
   "nbconvert_exporter": "python",
   "pygments_lexer": "ipython3",
   "version": "3.7.4"
  }
 },
 "nbformat": 4,
 "nbformat_minor": 2
}
