{
 "cells": [
  {
   "cell_type": "markdown",
   "metadata": {},
   "source": [
    "                 # Hilda Indriani Gea - Data Engineering  \n",
    "               13 September 2021 Take-Home Assement Zalora"
   ]
  },
  {
   "cell_type": "markdown",
   "metadata": {},
   "source": [
    "1.\n",
    "SELECT store_name, rnk from\n",
    "(SELECT store_name, rev, RANK()OVER (ORDER BY rev desc, store_name) AS rnk FROM\n",
    "(SELECT store_name, slot_member+slot_guest rev FROM\n",
    "(SELECT a.name store_name, b.slots*a.membercost slot_member, b.slots*a.guestcost slot_guest FROM\n",
    "(SELECT * FROM stores) a \n",
    "JOIN\n",
    "(SELECT * FROM reservation where memid = 0 having year(starttime) = '2020') b\n",
    "on a.facid = b.facid) a) a) a where rnk < 4"
   ]
  },
  {
   "cell_type": "markdown",
   "metadata": {},
   "source": [
    "2. \n",
    "SELECT store_name, rev,\n",
    "case\n",
    "when rev between 0 and 10000000 then 'LOW'\n",
    "when rev between 10000001 and 30000000 then 'AVERAGE'\n",
    "when rev > 30000000 then 'HIGH'\n",
    "end as classification  FROM\n",
    "(SELECT store_name, slot_member+slot_guest rev FROM\n",
    "(SELECT a.name store_name, b.slots*a.membercost slot_member, b.slots*a.guestcost slot_guest FROM\n",
    "(SELECT * FROM stores) a \n",
    "JOIN\n",
    "(SELECT * FROM reservation ) b\n",
    "on a.facid = b.facid) a) a ORDER BY classification , store_name"
   ]
  },
  {
   "cell_type": "markdown",
   "metadata": {},
   "source": [
    "3. \n",
    "SET @start_date = DATE_ADD(CURRENT_DATE, INTERVAL -15 DAY);\n",
    "SET @end_date = DATE_ADD(CURRENT_DATE, INTERVAL -1 DAY);\n",
    "\n",
    "SELECT date,\n",
    "ROUND(SUM(CASE WHEN date between @start_date and @end_date then rev/15 end),2) 'rev'\n",
    "FROM\n",
    "(SELECT date, slot_member+slot_guest rev FROM\n",
    "(SELECT date(starttime) date,  b.slots*a.membercost slot_member, b.slots*a.guestcost slot_guest FROM\n",
    "(SELECT * FROM stores) a \n",
    "JOIN\n",
    "(SELECT * FROM reservation having date(starttime) between '2020-08-01'  and '2020-08-31') b\n",
    "on a.facid = b.facid) a) a GROUP BY 1 order by date"
   ]
  },
  {
   "cell_type": "markdown",
   "metadata": {},
   "source": [
    "4.\n",
    "with recursive \n",
    "mem as (\n",
    "select  d.* from member d where memid = 15\n",
    "union all\n",
    "select d.* from member d inner join mem c on c.memid = d.recomended_by\n",
    "),\n",
    "rec as (\n",
    "select  d.* from member d where memid = 15\n",
    "union all\n",
    "select d.* from member d inner join rec p on d.memid = p.recomended_by\n",
    ")\n",
    "select * from mem\n",
    "union select * from rec\n",
    "order by memid\n"
   ]
  }
 ],
 "metadata": {
  "kernelspec": {
   "display_name": "Python 3",
   "language": "python",
   "name": "python3"
  },
  "language_info": {
   "codemirror_mode": {
    "name": "ipython",
    "version": 3
   },
   "file_extension": ".py",
   "mimetype": "text/x-python",
   "name": "python",
   "nbconvert_exporter": "python",
   "pygments_lexer": "ipython3",
   "version": "3.7.4"
  }
 },
 "nbformat": 4,
 "nbformat_minor": 2
}
